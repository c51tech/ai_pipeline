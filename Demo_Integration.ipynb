{
 "cells": [
  {
   "cell_type": "code",
   "execution_count": 3,
   "metadata": {},
   "outputs": [],
   "source": [
    "import datetime\n",
    "import integration_tasks as integ\n",
    "import imp"
   ]
  },
  {
   "cell_type": "code",
   "execution_count": 4,
   "metadata": {},
   "outputs": [
    {
     "data": {
      "text/plain": [
       "<module 'integration_tasks' from '/home/kikim/Projects/ai_pipeline/integration_tasks.py'>"
      ]
     },
     "execution_count": 4,
     "metadata": {},
     "output_type": "execute_result"
    }
   ],
   "source": [
    "imp.reload(integ)"
   ]
  },
  {
   "cell_type": "code",
   "execution_count": 58,
   "metadata": {
    "collapsed": true
   },
   "outputs": [],
   "source": [
    "class TestPG(integ.PgSelect):\n",
    "    \n",
    "    def write(self, rows):\n",
    "        print(len(rows))\n",
    "        \n",
    "        if len(rows) <= 0: return None\n",
    "        \n",
    "        columns = self.fill_columns(rows[0], self.columns)\n",
    "        print(columns)\n",
    "        \n",
    "        print(datetime.datetime.now())\n",
    "        \n",
    "        dict_list = []\n",
    "        for i, row in enumerate(rows):\n",
    "            row_dict = dict(zip(columns, row))\n",
    "            dict_list.append(row_dict)\n",
    "            \n",
    "        print(len(dict_list))\n",
    "        \n",
    "        print(dict_list[0])\n",
    "        print(dict_list[-1])\n",
    "            "
   ]
  },
  {
   "cell_type": "code",
   "execution_count": 59,
   "metadata": {},
   "outputs": [
    {
     "name": "stdout",
     "output_type": "stream",
     "text": [
      "2018-02-14 14:32:21.089079\n",
      "select to_timestamp(PH.issued_date/1000), PD.logical_path, PH.changed_value from point_history PH, point_master PM, point_desc PD where PH.path_id = PM.path_id   and PM.point_path = PD.point_path   and PH.issued_date >= 1490972400000   and PH.issued_date < 1491145200000 order by issued_date, logical_path asc ;\n",
      "6061468\n",
      "['issued_date', 'logical_path', 'changed_value']\n",
      "2018-02-14 14:33:17.782879\n",
      "6061468\n",
      "{'issued_date': datetime.datetime(2017, 4, 1, 0, 0, tzinfo=psycopg2.tz.FixedOffsetTimezone(offset=540, name=None)), 'logical_path': '100HP AIR 압력', 'changed_value': '7.306'}\n",
      "{'issued_date': datetime.datetime(2017, 4, 2, 23, 59, 46, tzinfo=psycopg2.tz.FixedOffsetTimezone(offset=540, name=None)), 'logical_path': '응축수탱크_G 펌프_1 상태', 'changed_value': 'Off'}\n",
      "0:01:05.703634\n"
     ]
    }
   ],
   "source": [
    "start_time = datetime.datetime.now()\n",
    "print(start_time)\n",
    "\n",
    "task = TestPG()\n",
    "task.columns = ['issued_date', 'logical_path', 'changed_value']\n",
    "task.sql = \"select to_timestamp(PH.issued_date/1000), PD.logical_path, PH.changed_value \" + \\\n",
    "            \"from point_history PH, point_master PM, point_desc PD \" + \\\n",
    "            \"where PH.path_id = PM.path_id \" + \\\n",
    "            \"  and PM.point_path = PD.point_path \" + \\\n",
    "            \"  and PH.issued_date >= %d \" + \\\n",
    "            \"  and PH.issued_date < %d \" + \\\n",
    "            \"order by issued_date, logical_path asc \" + \\\n",
    "            \";\"\n",
    "            \n",
    "task.sql = task.sql % (datetime.datetime(2017,4,1).timestamp() * 1000, \n",
    "                       datetime.datetime(2017,4,3).timestamp() * 1000)\n",
    "\n",
    "print(task.sql)\n",
    "\n",
    "task.run()\n",
    "\n",
    "print(datetime.datetime.now() - start_time)"
   ]
  },
  {
   "cell_type": "code",
   "execution_count": null,
   "metadata": {
    "collapsed": true
   },
   "outputs": [],
   "source": []
  },
  {
   "cell_type": "markdown",
   "metadata": {},
   "source": [
    "  ## PostgreSQL 의 LG Point_History를 MongoDB로 옮기기"
   ]
  },
  {
   "cell_type": "code",
   "execution_count": 77,
   "metadata": {},
   "outputs": [
    {
     "data": {
      "text/plain": [
       "<module 'integration_tasks' from '/Users/KIKIM/Projects/ai_pipeline/integration_tasks.py'>"
      ]
     },
     "execution_count": 77,
     "metadata": {},
     "output_type": "execute_result"
    }
   ],
   "source": [
    "imp.reload(integ)"
   ]
  },
  {
   "cell_type": "code",
   "execution_count": null,
   "metadata": {},
   "outputs": [
    {
     "name": "stdout",
     "output_type": "stream",
     "text": [
      "Start: 2018-02-14 20:48:28.229140\n",
      "2013-07-01 00:00:00 ~ 2013-07-11 00:00:00 :  2018-02-14 20:48:28.229640\n",
      "No result\n",
      "2013-07-11 00:00:00 ~ 2013-07-21 00:00:00 :  2018-02-14 20:48:28.389607\n",
      "77074\n",
      "2013-07-21 00:00:00 ~ 2013-07-31 00:00:00 :  2018-02-14 20:48:31.025396\n",
      "880404\n",
      "2013-07-31 00:00:00 ~ 2013-08-10 00:00:00 :  2018-02-14 20:49:01.606631\n",
      "1988115\n",
      "2013-08-10 00:00:00 ~ 2013-08-20 00:00:00 :  2018-02-14 20:50:06.089393\n",
      "452148\n",
      "2013-08-20 00:00:00 ~ 2013-08-30 00:00:00 :  2018-02-14 20:50:21.151440\n",
      "4673743\n",
      "2013-08-30 00:00:00 ~ 2013-09-09 00:00:00 :  2018-02-14 20:52:40.612785\n",
      "4796754\n",
      "2013-09-09 00:00:00 ~ 2013-09-19 00:00:00 :  2018-02-14 20:55:05.877176\n",
      "4727928\n",
      "2013-09-19 00:00:00 ~ 2013-09-29 00:00:00 :  2018-02-14 20:57:27.155600\n",
      "4702353\n",
      "2013-09-29 00:00:00 ~ 2013-10-09 00:00:00 :  2018-02-14 20:59:47.066746\n",
      "4689596\n",
      "2013-10-09 00:00:00 ~ 2013-10-19 00:00:00 :  2018-02-14 21:02:07.374070\n",
      "4642838\n",
      "2013-10-19 00:00:00 ~ 2013-10-29 00:00:00 :  2018-02-14 21:04:29.944628\n",
      "4614286\n",
      "2013-10-29 00:00:00 ~ 2013-11-08 00:00:00 :  2018-02-14 21:06:48.809272\n",
      "4477375\n",
      "2013-11-08 00:00:00 ~ 2013-11-18 00:00:00 :  2018-02-14 21:09:06.765033\n",
      "4778396\n",
      "2013-11-18 00:00:00 ~ 2013-11-28 00:00:00 :  2018-02-14 21:11:35.177556\n",
      "5092800\n",
      "2013-11-28 00:00:00 ~ 2013-12-08 00:00:00 :  2018-02-14 21:14:09.275323\n",
      "5170736\n",
      "2013-12-08 00:00:00 ~ 2013-12-18 00:00:00 :  2018-02-14 21:16:45.471541\n",
      "5072744\n",
      "2013-12-18 00:00:00 ~ 2013-12-28 00:00:00 :  2018-02-14 21:19:15.045007\n",
      "5154945\n",
      "2013-12-28 00:00:00 ~ 2014-01-07 00:00:00 :  2018-02-14 21:21:49.343366\n",
      "5712039\n",
      "2014-01-07 00:00:00 ~ 2014-01-17 00:00:00 :  2018-02-14 21:24:45.102724\n",
      "5792702\n",
      "2014-01-17 00:00:00 ~ 2014-01-27 00:00:00 :  2018-02-14 21:27:48.652822\n",
      "5838547\n",
      "2014-01-27 00:00:00 ~ 2014-02-06 00:00:00 :  2018-02-14 21:30:53.048409\n",
      "5815847\n",
      "2014-02-06 00:00:00 ~ 2014-02-16 00:00:00 :  2018-02-14 21:33:48.868408\n",
      "5567517\n",
      "2014-02-16 00:00:00 ~ 2014-02-26 00:00:00 :  2018-02-14 21:36:38.934657\n",
      "5509908\n",
      "2014-02-26 00:00:00 ~ 2014-03-08 00:00:00 :  2018-02-14 21:39:28.988848\n",
      "5580445\n",
      "2014-03-08 00:00:00 ~ 2014-03-18 00:00:00 :  2018-02-14 21:42:17.058609\n",
      "5685690\n",
      "2014-03-18 00:00:00 ~ 2014-03-28 00:00:00 :  2018-02-14 21:45:10.304585\n",
      "6340356\n",
      "2014-03-28 00:00:00 ~ 2014-04-07 00:00:00 :  2018-02-14 21:48:19.173813\n",
      "6884751\n",
      "2014-04-07 00:00:00 ~ 2014-04-17 00:00:00 :  2018-02-14 21:51:47.601100\n",
      "6934219\n",
      "2014-04-17 00:00:00 ~ 2014-04-27 00:00:00 :  2018-02-14 21:55:15.169966\n",
      "6934989\n",
      "2014-04-27 00:00:00 ~ 2014-05-07 00:00:00 :  2018-02-14 21:58:41.533962\n",
      "6901445\n",
      "2014-05-07 00:00:00 ~ 2014-05-17 00:00:00 :  2018-02-14 22:02:08.125985\n",
      "6899926\n",
      "2014-05-17 00:00:00 ~ 2014-05-27 00:00:00 :  2018-02-14 22:05:35.810756\n",
      "6933601\n",
      "2014-05-27 00:00:00 ~ 2014-06-06 00:00:00 :  2018-02-14 22:09:04.395691\n",
      "6694148\n",
      "2014-06-06 00:00:00 ~ 2014-06-16 00:00:00 :  2018-02-14 22:12:24.575149\n",
      "6811559\n",
      "2014-06-16 00:00:00 ~ 2014-06-26 00:00:00 :  2018-02-14 22:15:51.987693\n",
      "11816823\n",
      "2014-06-26 00:00:00 ~ 2014-07-06 00:00:00 :  2018-02-14 22:21:49.161070\n",
      "14436431\n",
      "2014-07-06 00:00:00 ~ 2014-07-16 00:00:00 :  2018-02-14 22:29:04.340988\n",
      "20797872\n",
      "2014-07-16 00:00:00 ~ 2014-07-26 00:00:00 :  2018-02-14 22:39:40.607347\n",
      "22168082\n",
      "2014-07-26 00:00:00 ~ 2014-08-05 00:00:00 :  2018-02-14 22:50:51.220294\n",
      "23403185\n",
      "2014-08-05 00:00:00 ~ 2014-08-15 00:00:00 :  2018-02-14 23:02:50.044520\n",
      "25118476\n"
     ]
    }
   ],
   "source": [
    "sql = \"select to_timestamp(PH.issued_date/1000), PD.logical_path, PH.changed_value \" + \\\n",
    "        \"from point_history PH, point_master PM, point_desc PD \" + \\\n",
    "        \"where PH.path_id = PM.path_id \" + \\\n",
    "        \"  and PM.point_path = PD.point_path \" + \\\n",
    "        \"  and PH.issued_date >= %d \" + \\\n",
    "        \"  and PH.issued_date < %d \" + \\\n",
    "        \"order by issued_date, logical_path asc \" + \\\n",
    "        \";\"\n",
    "\n",
    "start_time = datetime.datetime.now()\n",
    "print('Start:', start_time)\n",
    "\n",
    "task = integ.Pg2Mongo()\n",
    "task.columns = ['issued_date', 'logical_path', 'changed_value']\n",
    "\n",
    "task.mg_collection = 'point_history'\n",
    "\n",
    "from_date = datetime.datetime(2013, 7, 1)\n",
    "\n",
    "while from_date < datetime.datetime.now():\n",
    "    to_date = from_date + datetime.timedelta(days=10)\n",
    "    \n",
    "    task.sql = sql % (from_date.timestamp() * 1000, to_date.timestamp() * 1000)\n",
    "\n",
    "    print(from_date, '~', to_date, ': ', datetime.datetime.now())\n",
    "    task.run()\n",
    "    \n",
    "    from_date = to_date\n",
    "\n",
    "\n",
    "# for year in range(2013, 2018):\n",
    "#     for month in range(1, 13):\n",
    "        \n",
    "#         if datetime.datetime(year, month, 1) <= datetime.datetime(2014, 6, 1):\n",
    "#             continue\n",
    "        \n",
    "#         from_date = datetime.datetime(year, month, 1)\n",
    "        \n",
    "#         if month < 12:\n",
    "#             to_date = datetime.datetime(year, month + 1, 1)\n",
    "#         else:\n",
    "#             to_date = datetime.datetime(year + 1, 1, 1)\n",
    "    \n",
    "print('End:', datetime.datetime.now())\n",
    "print(datetime.datetime.now() - start_time)"
   ]
  },
  {
   "cell_type": "code",
   "execution_count": 6,
   "metadata": {},
   "outputs": [
    {
     "data": {
      "text/plain": [
       "2"
      ]
     },
     "execution_count": 6,
     "metadata": {},
     "output_type": "execute_result"
    }
   ],
   "source": [
    "1+1"
   ]
  },
  {
   "cell_type": "code",
   "execution_count": null,
   "metadata": {
    "collapsed": true
   },
   "outputs": [],
   "source": []
  }
 ],
 "metadata": {
  "kernelspec": {
   "display_name": "Python [conda env:pipe3]",
   "language": "python",
   "name": "conda-env-pipe3-py"
  },
  "language_info": {
   "codemirror_mode": {
    "name": "ipython",
    "version": 3
   },
   "file_extension": ".py",
   "mimetype": "text/x-python",
   "name": "python",
   "nbconvert_exporter": "python",
   "pygments_lexer": "ipython3",
   "version": "3.6.4"
  }
 },
 "nbformat": 4,
 "nbformat_minor": 2
}
